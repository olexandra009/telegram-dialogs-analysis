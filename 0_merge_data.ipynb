{
 "cells": [
  {
   "cell_type": "code",
   "execution_count": 1,
   "id": "09b4e301",
   "metadata": {},
   "outputs": [],
   "source": [
    "import os\n",
    "import pandas as pd\n",
    "import glob"
   ]
  },
  {
   "cell_type": "code",
   "execution_count": 2,
   "id": "d076df7c",
   "metadata": {},
   "outputs": [],
   "source": [
    "DIALOGS_DATA_PATH = \"../data/dialogs\"\n",
    "DIALOGS_META_DATA_PATH = \"../data/dialogs_meta\"\n",
    "\n",
    "MERGED_DATA_PATH = \"../data/merged_data\""
   ]
  },
  {
   "cell_type": "code",
   "execution_count": 3,
   "id": "65a13565",
   "metadata": {},
   "outputs": [
    {
     "name": "stderr",
     "output_type": "stream",
     "text": [
      "'ls' is not recognized as an internal or external command,\n",
      "operable program or batch file.\n"
     ]
    }
   ],
   "source": [
    "!ls ../data/"
   ]
  },
  {
   "cell_type": "code",
   "execution_count": 4,
   "id": "6d0eddab",
   "metadata": {},
   "outputs": [],
   "source": [
    "dialogs_data_files = glob.glob(f\"{DIALOGS_DATA_PATH}/*.csv\")\n",
    "dialogs_meta_data_files = glob.glob(f\"{DIALOGS_META_DATA_PATH}/*.json\")"
   ]
  },
  {
   "cell_type": "markdown",
   "id": "78cc73b6",
   "metadata": {},
   "source": [
    "## merging all dialogs_data (csv files) into one"
   ]
  },
  {
   "cell_type": "code",
   "execution_count": 5,
   "id": "4d582c3b",
   "metadata": {},
   "outputs": [
    {
     "name": "stderr",
     "output_type": "stream",
     "text": [
      "C:\\Users\\Alexandra\\AppData\\Local\\Temp\\ipykernel_21252\\2657989645.py:4: DtypeWarning: Columns (12,13) have mixed types. Specify dtype option on import or set low_memory=False.\n",
      "  local_df = pd.read_csv(d)\n",
      "C:\\Users\\Alexandra\\AppData\\Local\\Temp\\ipykernel_21252\\2657989645.py:4: DtypeWarning: Columns (12,13) have mixed types. Specify dtype option on import or set low_memory=False.\n",
      "  local_df = pd.read_csv(d)\n",
      "C:\\Users\\Alexandra\\AppData\\Local\\Temp\\ipykernel_21252\\2657989645.py:4: DtypeWarning: Columns (12,13) have mixed types. Specify dtype option on import or set low_memory=False.\n",
      "  local_df = pd.read_csv(d)\n",
      "C:\\Users\\Alexandra\\AppData\\Local\\Temp\\ipykernel_21252\\2657989645.py:4: DtypeWarning: Columns (12,13) have mixed types. Specify dtype option on import or set low_memory=False.\n",
      "  local_df = pd.read_csv(d)\n"
     ]
    }
   ],
   "source": [
    "df_array = []\n",
    "\n",
    "for d in dialogs_data_files:\n",
    "    local_df = pd.read_csv(d)\n",
    "    local_df[\"dialog_id\"] = os.path.basename(d).split(\".\")[0]\n",
    "    \n",
    "    df_array.append(local_df)\n",
    "    \n",
    "df = pd.concat(df_array, ignore_index=True)"
   ]
  },
  {
   "cell_type": "code",
   "execution_count": 7,
   "id": "4d83eb47",
   "metadata": {},
   "outputs": [
    {
     "data": {
      "text/plain": [
       "(2588080, 17)"
      ]
     },
     "execution_count": 7,
     "metadata": {},
     "output_type": "execute_result"
    }
   ],
   "source": [
    "df.shape"
   ]
  },
  {
   "cell_type": "code",
   "execution_count": 8,
   "id": "96e470a8",
   "metadata": {},
   "outputs": [],
   "source": [
    "if not os.path.isdir(MERGED_DATA_PATH):\n",
    "    os.mkdir(MERGED_DATA_PATH)\n",
    "\n",
    "if \"Unnamed: 0\" in df:\n",
    "    df = df.drop([\"Unnamed: 0\"], axis=True)\n",
    "    \n",
    "df.to_csv(f\"{MERGED_DATA_PATH}/dialogs_data_all.csv\", index=False)"
   ]
  },
  {
   "cell_type": "code",
   "execution_count": 9,
   "id": "16776850",
   "metadata": {},
   "outputs": [
    {
     "data": {
      "text/plain": [
       "(2588080, 16)"
      ]
     },
     "execution_count": 9,
     "metadata": {},
     "output_type": "execute_result"
    }
   ],
   "source": [
    "df.shape"
   ]
  },
  {
   "cell_type": "code",
   "execution_count": 10,
   "id": "4672e8ce",
   "metadata": {},
   "outputs": [
    {
     "data": {
      "text/html": [
       "<div>\n",
       "<style scoped>\n",
       "    .dataframe tbody tr th:only-of-type {\n",
       "        vertical-align: middle;\n",
       "    }\n",
       "\n",
       "    .dataframe tbody tr th {\n",
       "        vertical-align: top;\n",
       "    }\n",
       "\n",
       "    .dataframe thead th {\n",
       "        text-align: right;\n",
       "    }\n",
       "</style>\n",
       "<table border=\"1\" class=\"dataframe\">\n",
       "  <thead>\n",
       "    <tr style=\"text-align: right;\">\n",
       "      <th></th>\n",
       "      <th>id</th>\n",
       "      <th>date</th>\n",
       "      <th>from_id</th>\n",
       "      <th>to_id</th>\n",
       "      <th>fwd_from</th>\n",
       "      <th>message</th>\n",
       "      <th>type</th>\n",
       "      <th>duration</th>\n",
       "      <th>reaction</th>\n",
       "      <th>edit_date</th>\n",
       "      <th>silent</th>\n",
       "      <th>from_scheduled</th>\n",
       "      <th>edit_hide</th>\n",
       "      <th>post</th>\n",
       "      <th>media_unread</th>\n",
       "      <th>dialog_id</th>\n",
       "    </tr>\n",
       "  </thead>\n",
       "  <tbody>\n",
       "    <tr>\n",
       "      <th>0</th>\n",
       "      <td>19368</td>\n",
       "      <td>2022-11-07 18:15:00+00:00</td>\n",
       "      <td>NaN</td>\n",
       "      <td>PeerChannel(channel_id=1058013363)</td>\n",
       "      <td>NaN</td>\n",
       "      <td>​✈️ \"Антонов\" оголосив про будівництво другого...</td>\n",
       "      <td>photo</td>\n",
       "      <td>NaN</td>\n",
       "      <td>[{'reaction': '👍', 'count': 431}, {'reaction':...</td>\n",
       "      <td>2022-11-07 18:15:14+00:00</td>\n",
       "      <td>True</td>\n",
       "      <td>False</td>\n",
       "      <td>True</td>\n",
       "      <td>True</td>\n",
       "      <td>False</td>\n",
       "      <td>-1001058013363</td>\n",
       "    </tr>\n",
       "    <tr>\n",
       "      <th>1</th>\n",
       "      <td>19367</td>\n",
       "      <td>2022-11-07 17:51:00+00:00</td>\n",
       "      <td>NaN</td>\n",
       "      <td>PeerChannel(channel_id=1058013363)</td>\n",
       "      <td>NaN</td>\n",
       "      <td>​😎 У Миколаєві створили спеціальні екіпажі, як...</td>\n",
       "      <td>photo</td>\n",
       "      <td>NaN</td>\n",
       "      <td>[{'reaction': '👍', 'count': 614}, {'reaction':...</td>\n",
       "      <td>2022-11-07 18:19:43+00:00</td>\n",
       "      <td>True</td>\n",
       "      <td>False</td>\n",
       "      <td>False</td>\n",
       "      <td>True</td>\n",
       "      <td>False</td>\n",
       "      <td>-1001058013363</td>\n",
       "    </tr>\n",
       "    <tr>\n",
       "      <th>2</th>\n",
       "      <td>19366</td>\n",
       "      <td>2022-11-07 17:22:13+00:00</td>\n",
       "      <td>NaN</td>\n",
       "      <td>PeerChannel(channel_id=1058013363)</td>\n",
       "      <td>NaN</td>\n",
       "      <td>​❌🇷🇺 \"Ситуація в Одесі обурлива\": мовний омбуд...</td>\n",
       "      <td>photo</td>\n",
       "      <td>NaN</td>\n",
       "      <td>[{'reaction': '👍', 'count': 881}, {'reaction':...</td>\n",
       "      <td>2022-11-07 17:22:32+00:00</td>\n",
       "      <td>True</td>\n",
       "      <td>False</td>\n",
       "      <td>True</td>\n",
       "      <td>True</td>\n",
       "      <td>False</td>\n",
       "      <td>-1001058013363</td>\n",
       "    </tr>\n",
       "    <tr>\n",
       "      <th>3</th>\n",
       "      <td>19365</td>\n",
       "      <td>2022-11-07 16:58:02+00:00</td>\n",
       "      <td>NaN</td>\n",
       "      <td>PeerChannel(channel_id=1058013363)</td>\n",
       "      <td>NaN</td>\n",
       "      <td>​🤡 \"Больше, еще больше черных пакетов\": 80 тис...</td>\n",
       "      <td>photo</td>\n",
       "      <td>NaN</td>\n",
       "      <td>[{'reaction': '🤬', 'count': 451}, {'reaction':...</td>\n",
       "      <td>2022-11-07 16:58:17+00:00</td>\n",
       "      <td>True</td>\n",
       "      <td>False</td>\n",
       "      <td>True</td>\n",
       "      <td>True</td>\n",
       "      <td>False</td>\n",
       "      <td>-1001058013363</td>\n",
       "    </tr>\n",
       "    <tr>\n",
       "      <th>4</th>\n",
       "      <td>19364</td>\n",
       "      <td>2022-11-07 16:26:30+00:00</td>\n",
       "      <td>NaN</td>\n",
       "      <td>PeerChannel(channel_id=1058013363)</td>\n",
       "      <td>NaN</td>\n",
       "      <td>​🇰🇿 Казахстан готовий захищати \"священну\" неза...</td>\n",
       "      <td>photo</td>\n",
       "      <td>NaN</td>\n",
       "      <td>[{'reaction': '👍', 'count': 919}, {'reaction':...</td>\n",
       "      <td>2022-11-07 16:26:57+00:00</td>\n",
       "      <td>True</td>\n",
       "      <td>False</td>\n",
       "      <td>True</td>\n",
       "      <td>True</td>\n",
       "      <td>False</td>\n",
       "      <td>-1001058013363</td>\n",
       "    </tr>\n",
       "    <tr>\n",
       "      <th>5</th>\n",
       "      <td>19363</td>\n",
       "      <td>2022-11-07 15:59:19+00:00</td>\n",
       "      <td>NaN</td>\n",
       "      <td>PeerChannel(channel_id=1058013363)</td>\n",
       "      <td>NaN</td>\n",
       "      <td>​🇲🇩 Організація молдовського експрезидента Дод...</td>\n",
       "      <td>photo</td>\n",
       "      <td>NaN</td>\n",
       "      <td>[{'reaction': '🤬', 'count': 873}, {'reaction':...</td>\n",
       "      <td>2022-11-07 15:59:34+00:00</td>\n",
       "      <td>True</td>\n",
       "      <td>False</td>\n",
       "      <td>True</td>\n",
       "      <td>True</td>\n",
       "      <td>False</td>\n",
       "      <td>-1001058013363</td>\n",
       "    </tr>\n",
       "    <tr>\n",
       "      <th>6</th>\n",
       "      <td>19362</td>\n",
       "      <td>2022-11-07 15:32:33+00:00</td>\n",
       "      <td>NaN</td>\n",
       "      <td>PeerChannel(channel_id=1058013363)</td>\n",
       "      <td>NaN</td>\n",
       "      <td>​🤷🏻‍♂️ У НАТО і ЄС обговорюють можливі перемов...</td>\n",
       "      <td>photo</td>\n",
       "      <td>NaN</td>\n",
       "      <td>[{'reaction': '🤬', 'count': 792}, {'reaction':...</td>\n",
       "      <td>2022-11-07 15:32:54+00:00</td>\n",
       "      <td>True</td>\n",
       "      <td>False</td>\n",
       "      <td>True</td>\n",
       "      <td>True</td>\n",
       "      <td>False</td>\n",
       "      <td>-1001058013363</td>\n",
       "    </tr>\n",
       "    <tr>\n",
       "      <th>7</th>\n",
       "      <td>19361</td>\n",
       "      <td>2022-11-07 15:07:27+00:00</td>\n",
       "      <td>NaN</td>\n",
       "      <td>PeerChannel(channel_id=1058013363)</td>\n",
       "      <td>NaN</td>\n",
       "      <td>​❗️Резніков про передачу \"Мотор Січі\" і 4 підп...</td>\n",
       "      <td>photo</td>\n",
       "      <td>NaN</td>\n",
       "      <td>[{'reaction': '👍', 'count': 691}, {'reaction':...</td>\n",
       "      <td>2022-11-07 15:07:40+00:00</td>\n",
       "      <td>True</td>\n",
       "      <td>False</td>\n",
       "      <td>True</td>\n",
       "      <td>True</td>\n",
       "      <td>False</td>\n",
       "      <td>-1001058013363</td>\n",
       "    </tr>\n",
       "    <tr>\n",
       "      <th>8</th>\n",
       "      <td>19360</td>\n",
       "      <td>2022-11-07 14:43:00+00:00</td>\n",
       "      <td>NaN</td>\n",
       "      <td>PeerChannel(channel_id=1058013363)</td>\n",
       "      <td>NaN</td>\n",
       "      <td>​​💸 Переселенців перевірять за місцем реєстрац...</td>\n",
       "      <td>photo</td>\n",
       "      <td>NaN</td>\n",
       "      <td>[{'reaction': '👍', 'count': 743}, {'reaction':...</td>\n",
       "      <td>2022-11-07 14:43:06+00:00</td>\n",
       "      <td>False</td>\n",
       "      <td>False</td>\n",
       "      <td>True</td>\n",
       "      <td>True</td>\n",
       "      <td>False</td>\n",
       "      <td>-1001058013363</td>\n",
       "    </tr>\n",
       "    <tr>\n",
       "      <th>9</th>\n",
       "      <td>19359</td>\n",
       "      <td>2022-11-07 14:19:49+00:00</td>\n",
       "      <td>NaN</td>\n",
       "      <td>PeerChannel(channel_id=1058013363)</td>\n",
       "      <td>NaN</td>\n",
       "      <td>​​‼️ Україні відомо, що Іран постачатиме РФ ба...</td>\n",
       "      <td>photo</td>\n",
       "      <td>NaN</td>\n",
       "      <td>[{'reaction': '🤬', 'count': 1008}, {'reaction'...</td>\n",
       "      <td>2022-11-07 14:20:03+00:00</td>\n",
       "      <td>False</td>\n",
       "      <td>False</td>\n",
       "      <td>True</td>\n",
       "      <td>True</td>\n",
       "      <td>False</td>\n",
       "      <td>-1001058013363</td>\n",
       "    </tr>\n",
       "  </tbody>\n",
       "</table>\n",
       "</div>"
      ],
      "text/plain": [
       "      id                       date from_id  \\\n",
       "0  19368  2022-11-07 18:15:00+00:00     NaN   \n",
       "1  19367  2022-11-07 17:51:00+00:00     NaN   \n",
       "2  19366  2022-11-07 17:22:13+00:00     NaN   \n",
       "3  19365  2022-11-07 16:58:02+00:00     NaN   \n",
       "4  19364  2022-11-07 16:26:30+00:00     NaN   \n",
       "5  19363  2022-11-07 15:59:19+00:00     NaN   \n",
       "6  19362  2022-11-07 15:32:33+00:00     NaN   \n",
       "7  19361  2022-11-07 15:07:27+00:00     NaN   \n",
       "8  19360  2022-11-07 14:43:00+00:00     NaN   \n",
       "9  19359  2022-11-07 14:19:49+00:00     NaN   \n",
       "\n",
       "                                to_id fwd_from  \\\n",
       "0  PeerChannel(channel_id=1058013363)      NaN   \n",
       "1  PeerChannel(channel_id=1058013363)      NaN   \n",
       "2  PeerChannel(channel_id=1058013363)      NaN   \n",
       "3  PeerChannel(channel_id=1058013363)      NaN   \n",
       "4  PeerChannel(channel_id=1058013363)      NaN   \n",
       "5  PeerChannel(channel_id=1058013363)      NaN   \n",
       "6  PeerChannel(channel_id=1058013363)      NaN   \n",
       "7  PeerChannel(channel_id=1058013363)      NaN   \n",
       "8  PeerChannel(channel_id=1058013363)      NaN   \n",
       "9  PeerChannel(channel_id=1058013363)      NaN   \n",
       "\n",
       "                                             message   type  duration  \\\n",
       "0  ​✈️ \"Антонов\" оголосив про будівництво другого...  photo       NaN   \n",
       "1  ​😎 У Миколаєві створили спеціальні екіпажі, як...  photo       NaN   \n",
       "2  ​❌🇷🇺 \"Ситуація в Одесі обурлива\": мовний омбуд...  photo       NaN   \n",
       "3  ​🤡 \"Больше, еще больше черных пакетов\": 80 тис...  photo       NaN   \n",
       "4  ​🇰🇿 Казахстан готовий захищати \"священну\" неза...  photo       NaN   \n",
       "5  ​🇲🇩 Організація молдовського експрезидента Дод...  photo       NaN   \n",
       "6  ​🤷🏻‍♂️ У НАТО і ЄС обговорюють можливі перемов...  photo       NaN   \n",
       "7  ​❗️Резніков про передачу \"Мотор Січі\" і 4 підп...  photo       NaN   \n",
       "8  ​​💸 Переселенців перевірять за місцем реєстрац...  photo       NaN   \n",
       "9  ​​‼️ Україні відомо, що Іран постачатиме РФ ба...  photo       NaN   \n",
       "\n",
       "                                            reaction  \\\n",
       "0  [{'reaction': '👍', 'count': 431}, {'reaction':...   \n",
       "1  [{'reaction': '👍', 'count': 614}, {'reaction':...   \n",
       "2  [{'reaction': '👍', 'count': 881}, {'reaction':...   \n",
       "3  [{'reaction': '🤬', 'count': 451}, {'reaction':...   \n",
       "4  [{'reaction': '👍', 'count': 919}, {'reaction':...   \n",
       "5  [{'reaction': '🤬', 'count': 873}, {'reaction':...   \n",
       "6  [{'reaction': '🤬', 'count': 792}, {'reaction':...   \n",
       "7  [{'reaction': '👍', 'count': 691}, {'reaction':...   \n",
       "8  [{'reaction': '👍', 'count': 743}, {'reaction':...   \n",
       "9  [{'reaction': '🤬', 'count': 1008}, {'reaction'...   \n",
       "\n",
       "                   edit_date  silent from_scheduled edit_hide  post  \\\n",
       "0  2022-11-07 18:15:14+00:00    True          False      True  True   \n",
       "1  2022-11-07 18:19:43+00:00    True          False     False  True   \n",
       "2  2022-11-07 17:22:32+00:00    True          False      True  True   \n",
       "3  2022-11-07 16:58:17+00:00    True          False      True  True   \n",
       "4  2022-11-07 16:26:57+00:00    True          False      True  True   \n",
       "5  2022-11-07 15:59:34+00:00    True          False      True  True   \n",
       "6  2022-11-07 15:32:54+00:00    True          False      True  True   \n",
       "7  2022-11-07 15:07:40+00:00    True          False      True  True   \n",
       "8  2022-11-07 14:43:06+00:00   False          False      True  True   \n",
       "9  2022-11-07 14:20:03+00:00   False          False      True  True   \n",
       "\n",
       "   media_unread       dialog_id  \n",
       "0         False  -1001058013363  \n",
       "1         False  -1001058013363  \n",
       "2         False  -1001058013363  \n",
       "3         False  -1001058013363  \n",
       "4         False  -1001058013363  \n",
       "5         False  -1001058013363  \n",
       "6         False  -1001058013363  \n",
       "7         False  -1001058013363  \n",
       "8         False  -1001058013363  \n",
       "9         False  -1001058013363  "
      ]
     },
     "execution_count": 10,
     "metadata": {},
     "output_type": "execute_result"
    }
   ],
   "source": [
    "df.head(10)"
   ]
  },
  {
   "cell_type": "code",
   "execution_count": 10,
   "id": "d1bd96f3",
   "metadata": {},
   "outputs": [
    {
     "data": {
      "text/plain": [
       "('2016-06-01 21:59:38+00:00', '2022-11-08 04:52:45+00:00')"
      ]
     },
     "execution_count": 10,
     "metadata": {},
     "output_type": "execute_result"
    }
   ],
   "source": [
    "min(df[\"date\"]),max(df[\"date\"])"
   ]
  },
  {
   "cell_type": "code",
   "execution_count": 11,
   "id": "2a1aafab",
   "metadata": {},
   "outputs": [
    {
     "data": {
      "text/plain": [
       "type\n",
       "photo       307706\n",
       "sticker      43253\n",
       "text       2134709\n",
       "video        91408\n",
       "voice        11004\n",
       "Name: type, dtype: int64"
      ]
     },
     "execution_count": 11,
     "metadata": {},
     "output_type": "execute_result"
    }
   ],
   "source": [
    "df.groupby([\"type\"])[\"type\"].count()"
   ]
  },
  {
   "cell_type": "code",
   "execution_count": 12,
   "id": "66a677a9",
   "metadata": {},
   "outputs": [
    {
     "data": {
      "text/plain": [
       "type\n",
       "photo            0.0\n",
       "sticker          0.0\n",
       "text             0.0\n",
       "video      7439781.0\n",
       "voice       250938.0\n",
       "Name: duration, dtype: float64"
      ]
     },
     "execution_count": 12,
     "metadata": {},
     "output_type": "execute_result"
    }
   ],
   "source": [
    "df.groupby([\"type\"])[\"duration\"].sum()"
   ]
  },
  {
   "cell_type": "code",
   "execution_count": 11,
   "id": "d45a1405",
   "metadata": {},
   "outputs": [
    {
     "name": "stdout",
     "output_type": "stream",
     "text": [
      "<class 'pandas.core.frame.DataFrame'>\n",
      "RangeIndex: 2588080 entries, 0 to 2588079\n",
      "Data columns (total 16 columns):\n",
      " #   Column          Dtype  \n",
      "---  ------          -----  \n",
      " 0   id              int64  \n",
      " 1   date            object \n",
      " 2   from_id         object \n",
      " 3   to_id           object \n",
      " 4   fwd_from        object \n",
      " 5   message         object \n",
      " 6   type            object \n",
      " 7   duration        float64\n",
      " 8   reaction        object \n",
      " 9   edit_date       object \n",
      " 10  silent          bool   \n",
      " 11  from_scheduled  object \n",
      " 12  edit_hide       object \n",
      " 13  post            bool   \n",
      " 14  media_unread    bool   \n",
      " 15  dialog_id       object \n",
      "dtypes: bool(3), float64(1), int64(1), object(11)\n",
      "memory usage: 264.1+ MB\n"
     ]
    }
   ],
   "source": [
    "df.info()"
   ]
  },
  {
   "cell_type": "markdown",
   "id": "e24460df",
   "metadata": {},
   "source": [
    "## merging all dialogs_meta_data (json files) into one"
   ]
  },
  {
   "cell_type": "code",
   "execution_count": 65,
   "id": "3cecdc78",
   "metadata": {},
   "outputs": [
    {
     "name": "stdout",
     "output_type": "stream",
     "text": [
      "['../data/dialogs_meta\\\\-1001058013363.json', '../data/dialogs_meta\\\\-1001060691872.json', '../data/dialogs_meta\\\\-1001062962117.json', '../data/dialogs_meta\\\\-1001073261085.json', '../data/dialogs_meta\\\\-1001098725558.json', '../data/dialogs_meta\\\\-1001104012669.json', '../data/dialogs_meta\\\\-1001105413949.json', '../data/dialogs_meta\\\\-1001119144082.json', '../data/dialogs_meta\\\\-1001121077046.json', '../data/dialogs_meta\\\\-1001123734973.json', '../data/dialogs_meta\\\\-1001124004726.json', '../data/dialogs_meta\\\\-1001124109395.json', '../data/dialogs_meta\\\\-1001125794771.json', '../data/dialogs_meta\\\\-1001125955771.json', '../data/dialogs_meta\\\\-1001130905576.json', '../data/dialogs_meta\\\\-1001132311875.json', '../data/dialogs_meta\\\\-1001136074694.json', '../data/dialogs_meta\\\\-1001137506888.json', '../data/dialogs_meta\\\\-1001142723513.json', '../data/dialogs_meta\\\\-1001143350589.json', '../data/dialogs_meta\\\\-1001146255902.json', '../data/dialogs_meta\\\\-1001152024907.json', '../data/dialogs_meta\\\\-1001153278574.json', '../data/dialogs_meta\\\\-1001153744505.json', '../data/dialogs_meta\\\\-1001155574037.json', '../data/dialogs_meta\\\\-1001161333672.json', '../data/dialogs_meta\\\\-1001162489348.json', '../data/dialogs_meta\\\\-1001165849221.json', '../data/dialogs_meta\\\\-1001166584891.json', '../data/dialogs_meta\\\\-1001167034808.json', '../data/dialogs_meta\\\\-1001167936306.json', '../data/dialogs_meta\\\\-1001169803486.json', '../data/dialogs_meta\\\\-1001169847174.json', '../data/dialogs_meta\\\\-1001174342377.json', '../data/dialogs_meta\\\\-1001177873441.json', '../data/dialogs_meta\\\\-1001181080050.json', '../data/dialogs_meta\\\\-1001181183917.json', '../data/dialogs_meta\\\\-1001181210472.json', '../data/dialogs_meta\\\\-1001181595694.json', '../data/dialogs_meta\\\\-1001183385002.json', '../data/dialogs_meta\\\\-1001183968608.json', '../data/dialogs_meta\\\\-1001192493471.json', '../data/dialogs_meta\\\\-1001198564300.json', '../data/dialogs_meta\\\\-1001198589840.json', '../data/dialogs_meta\\\\-1001198785662.json', '../data/dialogs_meta\\\\-1001205661526.json', '../data/dialogs_meta\\\\-1001206439755.json', '../data/dialogs_meta\\\\-1001207975035.json', '../data/dialogs_meta\\\\-1001209059853.json', '../data/dialogs_meta\\\\-1001213480544.json', '../data/dialogs_meta\\\\-1001218251741.json', '../data/dialogs_meta\\\\-1001219344798.json', '../data/dialogs_meta\\\\-1001235933480.json', '../data/dialogs_meta\\\\-1001238420501.json', '../data/dialogs_meta\\\\-1001238910088.json', '../data/dialogs_meta\\\\-1001241723094.json', '../data/dialogs_meta\\\\-1001242913255.json', '../data/dialogs_meta\\\\-1001247170883.json', '../data/dialogs_meta\\\\-1001247556894.json', '../data/dialogs_meta\\\\-1001248930346.json', '../data/dialogs_meta\\\\-1001249504452.json', '../data/dialogs_meta\\\\-1001250146802.json', '../data/dialogs_meta\\\\-1001260680132.json', '../data/dialogs_meta\\\\-1001260969984.json', '../data/dialogs_meta\\\\-1001261379301.json', '../data/dialogs_meta\\\\-1001263362431.json', '../data/dialogs_meta\\\\-1001270708107.json', '../data/dialogs_meta\\\\-1001271440954.json', '../data/dialogs_meta\\\\-1001272777925.json', '../data/dialogs_meta\\\\-1001275352725.json', '../data/dialogs_meta\\\\-1001277991080.json', '../data/dialogs_meta\\\\-1001279073736.json', '../data/dialogs_meta\\\\-1001279935634.json', '../data/dialogs_meta\\\\-1001280273449.json', '../data/dialogs_meta\\\\-1001283760361.json', '../data/dialogs_meta\\\\-1001285654784.json', '../data/dialogs_meta\\\\-1001286723830.json', '../data/dialogs_meta\\\\-1001287559346.json', '../data/dialogs_meta\\\\-1001287978172.json', '../data/dialogs_meta\\\\-1001288820003.json', '../data/dialogs_meta\\\\-1001296224042.json', '../data/dialogs_meta\\\\-1001297603089.json', '../data/dialogs_meta\\\\-1001299960875.json', '../data/dialogs_meta\\\\-1001300205861.json', '../data/dialogs_meta\\\\-1001302354520.json', '../data/dialogs_meta\\\\-1001302758484.json', '../data/dialogs_meta\\\\-1001303730678.json', '../data/dialogs_meta\\\\-1001309731335.json', '../data/dialogs_meta\\\\-1001312188831.json', '../data/dialogs_meta\\\\-1001314050553.json', '../data/dialogs_meta\\\\-1001317702254.json', '../data/dialogs_meta\\\\-1001327135228.json', '../data/dialogs_meta\\\\-1001329542517.json', '../data/dialogs_meta\\\\-1001330091051.json', '../data/dialogs_meta\\\\-1001330145030.json', '../data/dialogs_meta\\\\-1001330870972.json', '../data/dialogs_meta\\\\-1001333685550.json', '../data/dialogs_meta\\\\-1001335320999.json', '../data/dialogs_meta\\\\-1001337530628.json', '../data/dialogs_meta\\\\-1001337840200.json', '../data/dialogs_meta\\\\-1001338777270.json', '../data/dialogs_meta\\\\-1001341893916.json', '../data/dialogs_meta\\\\-1001344797777.json', '../data/dialogs_meta\\\\-1001346140977.json', '../data/dialogs_meta\\\\-1001346679487.json', '../data/dialogs_meta\\\\-1001351683567.json', '../data/dialogs_meta\\\\-1001353178457.json', '../data/dialogs_meta\\\\-1001354162237.json', '../data/dialogs_meta\\\\-1001357724406.json', '../data/dialogs_meta\\\\-1001357804843.json', '../data/dialogs_meta\\\\-1001360737249.json', '../data/dialogs_meta\\\\-1001362744479.json', '../data/dialogs_meta\\\\-1001364425886.json', '../data/dialogs_meta\\\\-1001367214185.json', '../data/dialogs_meta\\\\-1001368563607.json', '../data/dialogs_meta\\\\-1001369001622.json', '../data/dialogs_meta\\\\-1001369120911.json', '../data/dialogs_meta\\\\-1001370453672.json', '../data/dialogs_meta\\\\-1001370864878.json', '../data/dialogs_meta\\\\-1001371422101.json', '../data/dialogs_meta\\\\-1001374116997.json', '../data/dialogs_meta\\\\-1001375783084.json', '../data/dialogs_meta\\\\-1001382291784.json', '../data/dialogs_meta\\\\-1001383714327.json', '../data/dialogs_meta\\\\-1001386691094.json', '../data/dialogs_meta\\\\-1001400671493.json', '../data/dialogs_meta\\\\-1001406268818.json', '../data/dialogs_meta\\\\-1001408842966.json', '../data/dialogs_meta\\\\-1001409726983.json', '../data/dialogs_meta\\\\-1001410738828.json', '../data/dialogs_meta\\\\-1001411881005.json', '../data/dialogs_meta\\\\-1001413567525.json', '../data/dialogs_meta\\\\-1001415048528.json', '../data/dialogs_meta\\\\-1001419524556.json', '../data/dialogs_meta\\\\-1001419794558.json', '../data/dialogs_meta\\\\-1001423633224.json', '../data/dialogs_meta\\\\-1001431061217.json', '../data/dialogs_meta\\\\-1001436788884.json', '../data/dialogs_meta\\\\-1001447264150.json', '../data/dialogs_meta\\\\-1001449647007.json', '../data/dialogs_meta\\\\-1001452095614.json', '../data/dialogs_meta\\\\-1001452844920.json', '../data/dialogs_meta\\\\-1001452898964.json', '../data/dialogs_meta\\\\-1001455660281.json', '../data/dialogs_meta\\\\-1001456510261.json', '../data/dialogs_meta\\\\-1001458444761.json', '../data/dialogs_meta\\\\-1001470144832.json', '../data/dialogs_meta\\\\-1001470200990.json', '../data/dialogs_meta\\\\-1001476674612.json', '../data/dialogs_meta\\\\-1001480216104.json', '../data/dialogs_meta\\\\-1001481868179.json', '../data/dialogs_meta\\\\-1001489567098.json', '../data/dialogs_meta\\\\-1001508935597.json', '../data/dialogs_meta\\\\-1001515693604.json', '../data/dialogs_meta\\\\-1001531968033.json', '../data/dialogs_meta\\\\-1001535727293.json', '../data/dialogs_meta\\\\-1001540179065.json', '../data/dialogs_meta\\\\-1001544547775.json', '../data/dialogs_meta\\\\-1001555002355.json', '../data/dialogs_meta\\\\-1001571359338.json', '../data/dialogs_meta\\\\-1001572418240.json', '../data/dialogs_meta\\\\-1001581946900.json', '../data/dialogs_meta\\\\-1001596253353.json', '../data/dialogs_meta\\\\-1001601549878.json', '../data/dialogs_meta\\\\-1001620872860.json', '../data/dialogs_meta\\\\-1001631059337.json', '../data/dialogs_meta\\\\-1001631877150.json', '../data/dialogs_meta\\\\-1001634209060.json', '../data/dialogs_meta\\\\-1001637710934.json', '../data/dialogs_meta\\\\-1001646979251.json', '../data/dialogs_meta\\\\-1001654312139.json', '../data/dialogs_meta\\\\-1001665564008.json', '../data/dialogs_meta\\\\-1001671030071.json', '../data/dialogs_meta\\\\-1001685026999.json', '../data/dialogs_meta\\\\-1001690294301.json', '../data/dialogs_meta\\\\-1001693894040.json', '../data/dialogs_meta\\\\-1001695031361.json', '../data/dialogs_meta\\\\-1001710816052.json', '../data/dialogs_meta\\\\-1001712532498.json', '../data/dialogs_meta\\\\-1001717488552.json', '../data/dialogs_meta\\\\-1001727757956.json', '../data/dialogs_meta\\\\-1001748815660.json', '../data/dialogs_meta\\\\-1001767296151.json', '../data/dialogs_meta\\\\-1001785811476.json', '../data/dialogs_meta\\\\-1001786239278.json', '../data/dialogs_meta\\\\-1001787510923.json', '../data/dialogs_meta\\\\-1001790330682.json', '../data/dialogs_meta\\\\-185236597.json', '../data/dialogs_meta\\\\-191511059.json', '../data/dialogs_meta\\\\-192381240.json', '../data/dialogs_meta\\\\-198960179.json', '../data/dialogs_meta\\\\-204891401.json', '../data/dialogs_meta\\\\-215282427.json', '../data/dialogs_meta\\\\-224510964.json', '../data/dialogs_meta\\\\-235539119.json', '../data/dialogs_meta\\\\-239031700.json', '../data/dialogs_meta\\\\-239946498.json', '../data/dialogs_meta\\\\-240832773.json', '../data/dialogs_meta\\\\-244858401.json', '../data/dialogs_meta\\\\-249003742.json', '../data/dialogs_meta\\\\-272165374.json', '../data/dialogs_meta\\\\-282100953.json', '../data/dialogs_meta\\\\-282641670.json', '../data/dialogs_meta\\\\-295354167.json', '../data/dialogs_meta\\\\-300415208.json', '../data/dialogs_meta\\\\-304460462.json', '../data/dialogs_meta\\\\-306835135.json', '../data/dialogs_meta\\\\-317140244.json', '../data/dialogs_meta\\\\-317459386.json', '../data/dialogs_meta\\\\-322654833.json', '../data/dialogs_meta\\\\-323274810.json', '../data/dialogs_meta\\\\-327018360.json', '../data/dialogs_meta\\\\-327939323.json', '../data/dialogs_meta\\\\-353515072.json', '../data/dialogs_meta\\\\-356327422.json', '../data/dialogs_meta\\\\-359485438.json', '../data/dialogs_meta\\\\-370835111.json', '../data/dialogs_meta\\\\-372131693.json', '../data/dialogs_meta\\\\-376488842.json', '../data/dialogs_meta\\\\-378521650.json', '../data/dialogs_meta\\\\-382437852.json', '../data/dialogs_meta\\\\-392043373.json', '../data/dialogs_meta\\\\-394587157.json', '../data/dialogs_meta\\\\-396065315.json', '../data/dialogs_meta\\\\-411362717.json', '../data/dialogs_meta\\\\-417225270.json', '../data/dialogs_meta\\\\-442994971.json', '../data/dialogs_meta\\\\-449368595.json', '../data/dialogs_meta\\\\-452282391.json', '../data/dialogs_meta\\\\-458860758.json', '../data/dialogs_meta\\\\-467526257.json', '../data/dialogs_meta\\\\-477630457.json', '../data/dialogs_meta\\\\-479590253.json', '../data/dialogs_meta\\\\-489655092.json', '../data/dialogs_meta\\\\-490268560.json', '../data/dialogs_meta\\\\-494164110.json', '../data/dialogs_meta\\\\-507880520.json', '../data/dialogs_meta\\\\-515977879.json', '../data/dialogs_meta\\\\-516004465.json', '../data/dialogs_meta\\\\-523124797.json', '../data/dialogs_meta\\\\-540334692.json', '../data/dialogs_meta\\\\-543051573.json', '../data/dialogs_meta\\\\-582963098.json', '../data/dialogs_meta\\\\-587204016.json', '../data/dialogs_meta\\\\-587244139.json', '../data/dialogs_meta\\\\-607793044.json', '../data/dialogs_meta\\\\-723933530.json', '../data/dialogs_meta\\\\-739745073.json', '../data/dialogs_meta\\\\-740845288.json', '../data/dialogs_meta\\\\-752070354.json', '../data/dialogs_meta\\\\-764656973.json', '../data/dialogs_meta\\\\-794439194.json', '../data/dialogs_meta\\\\-796595497.json', '../data/dialogs_meta\\\\-893192577.json', '../data/dialogs_meta\\\\1004782855.json', '../data/dialogs_meta\\\\1018674087.json', '../data/dialogs_meta\\\\1020019055.json', '../data/dialogs_meta\\\\1032938734.json', '../data/dialogs_meta\\\\1034285330.json', '../data/dialogs_meta\\\\1047127126.json', '../data/dialogs_meta\\\\1068828931.json', '../data/dialogs_meta\\\\1069776089.json', '../data/dialogs_meta\\\\109624025.json', '../data/dialogs_meta\\\\1096483383.json', '../data/dialogs_meta\\\\1121751168.json', '../data/dialogs_meta\\\\1129956154.json', '../data/dialogs_meta\\\\116182400.json', '../data/dialogs_meta\\\\1190172266.json', '../data/dialogs_meta\\\\1200631788.json', '../data/dialogs_meta\\\\1209377814.json', '../data/dialogs_meta\\\\1210263535.json', '../data/dialogs_meta\\\\1252501506.json', '../data/dialogs_meta\\\\126963611.json', '../data/dialogs_meta\\\\1271266957.json', '../data/dialogs_meta\\\\1273215075.json', '../data/dialogs_meta\\\\1290836578.json', '../data/dialogs_meta\\\\1293853386.json', '../data/dialogs_meta\\\\1352339921.json', '../data/dialogs_meta\\\\1377054185.json', '../data/dialogs_meta\\\\140062798.json', '../data/dialogs_meta\\\\1472937151.json', '../data/dialogs_meta\\\\1505100131.json', '../data/dialogs_meta\\\\1514456053.json', '../data/dialogs_meta\\\\152424671.json', '../data/dialogs_meta\\\\1527195550.json', '../data/dialogs_meta\\\\156512335.json', '../data/dialogs_meta\\\\1576747047.json', '../data/dialogs_meta\\\\1581536610.json', '../data/dialogs_meta\\\\1605246350.json', '../data/dialogs_meta\\\\1623116767.json', '../data/dialogs_meta\\\\1634120284.json', '../data/dialogs_meta\\\\1676844821.json', '../data/dialogs_meta\\\\1678704683.json', '../data/dialogs_meta\\\\169551199.json', '../data/dialogs_meta\\\\1768263031.json', '../data/dialogs_meta\\\\1771610785.json', '../data/dialogs_meta\\\\1804410982.json', '../data/dialogs_meta\\\\181257744.json', '../data/dialogs_meta\\\\1819818439.json', '../data/dialogs_meta\\\\183463471.json', '../data/dialogs_meta\\\\1848193856.json', '../data/dialogs_meta\\\\185527411.json', '../data/dialogs_meta\\\\1870727488.json', '../data/dialogs_meta\\\\1891851605.json', '../data/dialogs_meta\\\\2010143667.json', '../data/dialogs_meta\\\\209954910.json', '../data/dialogs_meta\\\\2138507948.json', '../data/dialogs_meta\\\\214345580.json', '../data/dialogs_meta\\\\224390407.json', '../data/dialogs_meta\\\\226601818.json', '../data/dialogs_meta\\\\234938306.json', '../data/dialogs_meta\\\\237261908.json', '../data/dialogs_meta\\\\249617294.json', '../data/dialogs_meta\\\\251485164.json', '../data/dialogs_meta\\\\255026222.json', '../data/dialogs_meta\\\\262442341.json', '../data/dialogs_meta\\\\274417032.json', '../data/dialogs_meta\\\\281396127.json', '../data/dialogs_meta\\\\287652059.json', '../data/dialogs_meta\\\\300865446.json', '../data/dialogs_meta\\\\311261197.json', '../data/dialogs_meta\\\\311289894.json', '../data/dialogs_meta\\\\312085379.json', '../data/dialogs_meta\\\\315702889.json', '../data/dialogs_meta\\\\317697100.json', '../data/dialogs_meta\\\\327353306.json', '../data/dialogs_meta\\\\331389579.json', '../data/dialogs_meta\\\\332425095.json', '../data/dialogs_meta\\\\332612372.json', '../data/dialogs_meta\\\\334312012.json', '../data/dialogs_meta\\\\336714252.json', '../data/dialogs_meta\\\\336815934.json', '../data/dialogs_meta\\\\342450726.json', '../data/dialogs_meta\\\\344018030.json', '../data/dialogs_meta\\\\345232119.json', '../data/dialogs_meta\\\\348139888.json', '../data/dialogs_meta\\\\349098658.json', '../data/dialogs_meta\\\\349695338.json', '../data/dialogs_meta\\\\351101315.json', '../data/dialogs_meta\\\\351407212.json', '../data/dialogs_meta\\\\351847188.json', '../data/dialogs_meta\\\\355148397.json', '../data/dialogs_meta\\\\356389183.json', '../data/dialogs_meta\\\\357354660.json', '../data/dialogs_meta\\\\359674548.json', '../data/dialogs_meta\\\\362015063.json', '../data/dialogs_meta\\\\364513121.json', '../data/dialogs_meta\\\\365385817.json', '../data/dialogs_meta\\\\367749597.json', '../data/dialogs_meta\\\\368844835.json', '../data/dialogs_meta\\\\369519357.json', '../data/dialogs_meta\\\\370505677.json', '../data/dialogs_meta\\\\373918294.json', '../data/dialogs_meta\\\\374272586.json', '../data/dialogs_meta\\\\375871632.json', '../data/dialogs_meta\\\\377991400.json', '../data/dialogs_meta\\\\380461009.json', '../data/dialogs_meta\\\\380795857.json', '../data/dialogs_meta\\\\381536062.json', '../data/dialogs_meta\\\\381758581.json', '../data/dialogs_meta\\\\384845835.json', '../data/dialogs_meta\\\\387427269.json', '../data/dialogs_meta\\\\392241081.json', '../data/dialogs_meta\\\\393059566.json', '../data/dialogs_meta\\\\393108926.json', '../data/dialogs_meta\\\\393452159.json', '../data/dialogs_meta\\\\395436670.json', '../data/dialogs_meta\\\\396353432.json', '../data/dialogs_meta\\\\397441765.json', '../data/dialogs_meta\\\\403299058.json', '../data/dialogs_meta\\\\403562232.json', '../data/dialogs_meta\\\\404484232.json', '../data/dialogs_meta\\\\409381248.json', '../data/dialogs_meta\\\\411085581.json', '../data/dialogs_meta\\\\413640561.json', '../data/dialogs_meta\\\\417921332.json', '../data/dialogs_meta\\\\418647415.json', '../data/dialogs_meta\\\\418867608.json', '../data/dialogs_meta\\\\419187603.json', '../data/dialogs_meta\\\\419699153.json', '../data/dialogs_meta\\\\420242998.json', '../data/dialogs_meta\\\\420865092.json', '../data/dialogs_meta\\\\423330119.json', '../data/dialogs_meta\\\\425082023.json', '../data/dialogs_meta\\\\425750796.json', '../data/dialogs_meta\\\\425956289.json', '../data/dialogs_meta\\\\427207286.json', '../data/dialogs_meta\\\\428207667.json', '../data/dialogs_meta\\\\428325309.json', '../data/dialogs_meta\\\\428489872.json', '../data/dialogs_meta\\\\429023114.json', '../data/dialogs_meta\\\\429610019.json', '../data/dialogs_meta\\\\430091003.json', '../data/dialogs_meta\\\\438493675.json', '../data/dialogs_meta\\\\444726345.json', '../data/dialogs_meta\\\\446000837.json', '../data/dialogs_meta\\\\446034084.json', '../data/dialogs_meta\\\\447935869.json', '../data/dialogs_meta\\\\448646206.json', '../data/dialogs_meta\\\\449838278.json', '../data/dialogs_meta\\\\450310994.json', '../data/dialogs_meta\\\\452251808.json', '../data/dialogs_meta\\\\459580958.json', '../data/dialogs_meta\\\\464863853.json', '../data/dialogs_meta\\\\466198917.json', '../data/dialogs_meta\\\\474620930.json', '../data/dialogs_meta\\\\474812283.json', '../data/dialogs_meta\\\\483302906.json', '../data/dialogs_meta\\\\489981882.json', '../data/dialogs_meta\\\\494741259.json', '../data/dialogs_meta\\\\5037215584.json', '../data/dialogs_meta\\\\505826976.json', '../data/dialogs_meta\\\\505989923.json', '../data/dialogs_meta\\\\5092618804.json', '../data/dialogs_meta\\\\5096681555.json', '../data/dialogs_meta\\\\509810695.json', '../data/dialogs_meta\\\\5103876364.json', '../data/dialogs_meta\\\\514467309.json', '../data/dialogs_meta\\\\5149360796.json', '../data/dialogs_meta\\\\5172647901.json', '../data/dialogs_meta\\\\5176846789.json', '../data/dialogs_meta\\\\5190830136.json', '../data/dialogs_meta\\\\5205864170.json', '../data/dialogs_meta\\\\523743719.json', '../data/dialogs_meta\\\\5245334843.json', '../data/dialogs_meta\\\\5245705265.json', '../data/dialogs_meta\\\\5260290660.json', '../data/dialogs_meta\\\\5260925394.json', '../data/dialogs_meta\\\\5273603877.json', '../data/dialogs_meta\\\\527518987.json', '../data/dialogs_meta\\\\5312194646.json', '../data/dialogs_meta\\\\5391363786.json', '../data/dialogs_meta\\\\5394676082.json', '../data/dialogs_meta\\\\5412233703.json', '../data/dialogs_meta\\\\544123678.json', '../data/dialogs_meta\\\\5458281104.json', '../data/dialogs_meta\\\\5524768946.json', '../data/dialogs_meta\\\\5592378614.json', '../data/dialogs_meta\\\\561792124.json', '../data/dialogs_meta\\\\568180523.json', '../data/dialogs_meta\\\\5687494828.json', '../data/dialogs_meta\\\\5721289327.json', '../data/dialogs_meta\\\\574136080.json', '../data/dialogs_meta\\\\5777867985.json', '../data/dialogs_meta\\\\5790109490.json', '../data/dialogs_meta\\\\579393077.json', '../data/dialogs_meta\\\\5799935738.json', '../data/dialogs_meta\\\\590814925.json', '../data/dialogs_meta\\\\594904820.json', '../data/dialogs_meta\\\\607495971.json', '../data/dialogs_meta\\\\642708805.json', '../data/dialogs_meta\\\\663796546.json', '../data/dialogs_meta\\\\666245186.json', '../data/dialogs_meta\\\\672536291.json', '../data/dialogs_meta\\\\672991795.json', '../data/dialogs_meta\\\\677472865.json', '../data/dialogs_meta\\\\679743730.json', '../data/dialogs_meta\\\\680011142.json', '../data/dialogs_meta\\\\684281129.json', '../data/dialogs_meta\\\\692051334.json', '../data/dialogs_meta\\\\695099172.json', '../data/dialogs_meta\\\\696536334.json', '../data/dialogs_meta\\\\696956544.json', '../data/dialogs_meta\\\\712781594.json', '../data/dialogs_meta\\\\718932519.json', '../data/dialogs_meta\\\\742288064.json', '../data/dialogs_meta\\\\742336470.json', '../data/dialogs_meta\\\\746978778.json', '../data/dialogs_meta\\\\756279359.json', '../data/dialogs_meta\\\\773761890.json', '../data/dialogs_meta\\\\777000.json', '../data/dialogs_meta\\\\793581641.json', '../data/dialogs_meta\\\\803198821.json', '../data/dialogs_meta\\\\805374365.json', '../data/dialogs_meta\\\\811868926.json', '../data/dialogs_meta\\\\843068145.json', '../data/dialogs_meta\\\\871313607.json', '../data/dialogs_meta\\\\881665747.json', '../data/dialogs_meta\\\\883301462.json', '../data/dialogs_meta\\\\897399680.json', '../data/dialogs_meta\\\\909700215.json', '../data/dialogs_meta\\\\93372553.json', '../data/dialogs_meta\\\\935562473.json', '../data/dialogs_meta\\\\935747581.json', '../data/dialogs_meta\\\\952649455.json', '../data/dialogs_meta\\\\954303437.json', '../data/dialogs_meta\\\\954335073.json', '../data/dialogs_meta\\\\958793988.json', '../data/dialogs_meta\\\\962951726.json', '../data/dialogs_meta\\\\965572072.json', '../data/dialogs_meta\\\\982705034.json', '../data/dialogs_meta\\\\983000232.json']\n"
     ]
    },
    {
     "ename": "ValueError",
     "evalue": "Expected object or value",
     "output_type": "error",
     "traceback": [
      "\u001b[1;31m---------------------------------------------------------------------------\u001b[0m",
      "\u001b[1;31mValueError\u001b[0m                                Traceback (most recent call last)",
      "Cell \u001b[1;32mIn [65], line 5\u001b[0m\n\u001b[0;32m      3\u001b[0m \u001b[38;5;28mprint\u001b[39m(dialogs_meta_data_files)\n\u001b[0;32m      4\u001b[0m \u001b[38;5;28;01mfor\u001b[39;00m d \u001b[38;5;129;01min\u001b[39;00m dialogs_meta_data_files:\n\u001b[1;32m----> 5\u001b[0m     local_df \u001b[38;5;241m=\u001b[39m \u001b[43mpd\u001b[49m\u001b[38;5;241;43m.\u001b[39;49m\u001b[43mread_json\u001b[49m\u001b[43m(\u001b[49m\u001b[43md\u001b[49m\u001b[43m)\u001b[49m\n\u001b[0;32m      6\u001b[0m     local_df \u001b[38;5;241m=\u001b[39m local_df\u001b[38;5;241m.\u001b[39mrename({\u001b[38;5;124m'\u001b[39m\u001b[38;5;124mid\u001b[39m\u001b[38;5;124m'\u001b[39m: \u001b[38;5;124m'\u001b[39m\u001b[38;5;124mdialog_id\u001b[39m\u001b[38;5;124m'\u001b[39m}, axis\u001b[38;5;241m=\u001b[39m\u001b[38;5;241m1\u001b[39m)\n\u001b[0;32m      7\u001b[0m     df_array\u001b[38;5;241m.\u001b[39mappend(local_df)\n",
      "File \u001b[1;32mD:\\Master\\Computing social science\\3\\telegram-dialogs-analysis-v2\\.venv\\lib\\site-packages\\pandas\\util\\_decorators.py:211\u001b[0m, in \u001b[0;36mdeprecate_kwarg.<locals>._deprecate_kwarg.<locals>.wrapper\u001b[1;34m(*args, **kwargs)\u001b[0m\n\u001b[0;32m    209\u001b[0m     \u001b[38;5;28;01melse\u001b[39;00m:\n\u001b[0;32m    210\u001b[0m         kwargs[new_arg_name] \u001b[38;5;241m=\u001b[39m new_arg_value\n\u001b[1;32m--> 211\u001b[0m \u001b[38;5;28;01mreturn\u001b[39;00m func(\u001b[38;5;241m*\u001b[39margs, \u001b[38;5;241m*\u001b[39m\u001b[38;5;241m*\u001b[39mkwargs)\n",
      "File \u001b[1;32mD:\\Master\\Computing social science\\3\\telegram-dialogs-analysis-v2\\.venv\\lib\\site-packages\\pandas\\util\\_decorators.py:331\u001b[0m, in \u001b[0;36mdeprecate_nonkeyword_arguments.<locals>.decorate.<locals>.wrapper\u001b[1;34m(*args, **kwargs)\u001b[0m\n\u001b[0;32m    325\u001b[0m \u001b[38;5;28;01mif\u001b[39;00m \u001b[38;5;28mlen\u001b[39m(args) \u001b[38;5;241m>\u001b[39m num_allow_args:\n\u001b[0;32m    326\u001b[0m     warnings\u001b[38;5;241m.\u001b[39mwarn(\n\u001b[0;32m    327\u001b[0m         msg\u001b[38;5;241m.\u001b[39mformat(arguments\u001b[38;5;241m=\u001b[39m_format_argument_list(allow_args)),\n\u001b[0;32m    328\u001b[0m         \u001b[38;5;167;01mFutureWarning\u001b[39;00m,\n\u001b[0;32m    329\u001b[0m         stacklevel\u001b[38;5;241m=\u001b[39mfind_stack_level(),\n\u001b[0;32m    330\u001b[0m     )\n\u001b[1;32m--> 331\u001b[0m \u001b[38;5;28;01mreturn\u001b[39;00m func(\u001b[38;5;241m*\u001b[39margs, \u001b[38;5;241m*\u001b[39m\u001b[38;5;241m*\u001b[39mkwargs)\n",
      "File \u001b[1;32mD:\\Master\\Computing social science\\3\\telegram-dialogs-analysis-v2\\.venv\\lib\\site-packages\\pandas\\io\\json\\_json.py:757\u001b[0m, in \u001b[0;36mread_json\u001b[1;34m(path_or_buf, orient, typ, dtype, convert_axes, convert_dates, keep_default_dates, numpy, precise_float, date_unit, encoding, encoding_errors, lines, chunksize, compression, nrows, storage_options)\u001b[0m\n\u001b[0;32m    754\u001b[0m     \u001b[38;5;28;01mreturn\u001b[39;00m json_reader\n\u001b[0;32m    756\u001b[0m \u001b[38;5;28;01mwith\u001b[39;00m json_reader:\n\u001b[1;32m--> 757\u001b[0m     \u001b[38;5;28;01mreturn\u001b[39;00m \u001b[43mjson_reader\u001b[49m\u001b[38;5;241;43m.\u001b[39;49m\u001b[43mread\u001b[49m\u001b[43m(\u001b[49m\u001b[43m)\u001b[49m\n",
      "File \u001b[1;32mD:\\Master\\Computing social science\\3\\telegram-dialogs-analysis-v2\\.venv\\lib\\site-packages\\pandas\\io\\json\\_json.py:915\u001b[0m, in \u001b[0;36mJsonReader.read\u001b[1;34m(self)\u001b[0m\n\u001b[0;32m    913\u001b[0m         obj \u001b[38;5;241m=\u001b[39m \u001b[38;5;28mself\u001b[39m\u001b[38;5;241m.\u001b[39m_get_object_parser(\u001b[38;5;28mself\u001b[39m\u001b[38;5;241m.\u001b[39m_combine_lines(data_lines))\n\u001b[0;32m    914\u001b[0m \u001b[38;5;28;01melse\u001b[39;00m:\n\u001b[1;32m--> 915\u001b[0m     obj \u001b[38;5;241m=\u001b[39m \u001b[38;5;28;43mself\u001b[39;49m\u001b[38;5;241;43m.\u001b[39;49m\u001b[43m_get_object_parser\u001b[49m\u001b[43m(\u001b[49m\u001b[38;5;28;43mself\u001b[39;49m\u001b[38;5;241;43m.\u001b[39;49m\u001b[43mdata\u001b[49m\u001b[43m)\u001b[49m\n\u001b[0;32m    916\u001b[0m \u001b[38;5;28mself\u001b[39m\u001b[38;5;241m.\u001b[39mclose()\n\u001b[0;32m    917\u001b[0m \u001b[38;5;28;01mreturn\u001b[39;00m obj\n",
      "File \u001b[1;32mD:\\Master\\Computing social science\\3\\telegram-dialogs-analysis-v2\\.venv\\lib\\site-packages\\pandas\\io\\json\\_json.py:937\u001b[0m, in \u001b[0;36mJsonReader._get_object_parser\u001b[1;34m(self, json)\u001b[0m\n\u001b[0;32m    935\u001b[0m obj \u001b[38;5;241m=\u001b[39m \u001b[38;5;28;01mNone\u001b[39;00m\n\u001b[0;32m    936\u001b[0m \u001b[38;5;28;01mif\u001b[39;00m typ \u001b[38;5;241m==\u001b[39m \u001b[38;5;124m\"\u001b[39m\u001b[38;5;124mframe\u001b[39m\u001b[38;5;124m\"\u001b[39m:\n\u001b[1;32m--> 937\u001b[0m     obj \u001b[38;5;241m=\u001b[39m \u001b[43mFrameParser\u001b[49m\u001b[43m(\u001b[49m\u001b[43mjson\u001b[49m\u001b[43m,\u001b[49m\u001b[43m \u001b[49m\u001b[38;5;241;43m*\u001b[39;49m\u001b[38;5;241;43m*\u001b[39;49m\u001b[43mkwargs\u001b[49m\u001b[43m)\u001b[49m\u001b[38;5;241;43m.\u001b[39;49m\u001b[43mparse\u001b[49m\u001b[43m(\u001b[49m\u001b[43m)\u001b[49m\n\u001b[0;32m    939\u001b[0m \u001b[38;5;28;01mif\u001b[39;00m typ \u001b[38;5;241m==\u001b[39m \u001b[38;5;124m\"\u001b[39m\u001b[38;5;124mseries\u001b[39m\u001b[38;5;124m\"\u001b[39m \u001b[38;5;129;01mor\u001b[39;00m obj \u001b[38;5;129;01mis\u001b[39;00m \u001b[38;5;28;01mNone\u001b[39;00m:\n\u001b[0;32m    940\u001b[0m     \u001b[38;5;28;01mif\u001b[39;00m \u001b[38;5;129;01mnot\u001b[39;00m \u001b[38;5;28misinstance\u001b[39m(dtype, \u001b[38;5;28mbool\u001b[39m):\n",
      "File \u001b[1;32mD:\\Master\\Computing social science\\3\\telegram-dialogs-analysis-v2\\.venv\\lib\\site-packages\\pandas\\io\\json\\_json.py:1064\u001b[0m, in \u001b[0;36mParser.parse\u001b[1;34m(self)\u001b[0m\n\u001b[0;32m   1062\u001b[0m     \u001b[38;5;28mself\u001b[39m\u001b[38;5;241m.\u001b[39m_parse_numpy()\n\u001b[0;32m   1063\u001b[0m \u001b[38;5;28;01melse\u001b[39;00m:\n\u001b[1;32m-> 1064\u001b[0m     \u001b[38;5;28;43mself\u001b[39;49m\u001b[38;5;241;43m.\u001b[39;49m\u001b[43m_parse_no_numpy\u001b[49m\u001b[43m(\u001b[49m\u001b[43m)\u001b[49m\n\u001b[0;32m   1066\u001b[0m \u001b[38;5;28;01mif\u001b[39;00m \u001b[38;5;28mself\u001b[39m\u001b[38;5;241m.\u001b[39mobj \u001b[38;5;129;01mis\u001b[39;00m \u001b[38;5;28;01mNone\u001b[39;00m:\n\u001b[0;32m   1067\u001b[0m     \u001b[38;5;28;01mreturn\u001b[39;00m \u001b[38;5;28;01mNone\u001b[39;00m\n",
      "File \u001b[1;32mD:\\Master\\Computing social science\\3\\telegram-dialogs-analysis-v2\\.venv\\lib\\site-packages\\pandas\\io\\json\\_json.py:1321\u001b[0m, in \u001b[0;36mFrameParser._parse_no_numpy\u001b[1;34m(self)\u001b[0m\n\u001b[0;32m   1317\u001b[0m orient \u001b[38;5;241m=\u001b[39m \u001b[38;5;28mself\u001b[39m\u001b[38;5;241m.\u001b[39morient\n\u001b[0;32m   1319\u001b[0m \u001b[38;5;28;01mif\u001b[39;00m orient \u001b[38;5;241m==\u001b[39m \u001b[38;5;124m\"\u001b[39m\u001b[38;5;124mcolumns\u001b[39m\u001b[38;5;124m\"\u001b[39m:\n\u001b[0;32m   1320\u001b[0m     \u001b[38;5;28mself\u001b[39m\u001b[38;5;241m.\u001b[39mobj \u001b[38;5;241m=\u001b[39m DataFrame(\n\u001b[1;32m-> 1321\u001b[0m         \u001b[43mloads\u001b[49m\u001b[43m(\u001b[49m\u001b[43mjson\u001b[49m\u001b[43m,\u001b[49m\u001b[43m \u001b[49m\u001b[43mprecise_float\u001b[49m\u001b[38;5;241;43m=\u001b[39;49m\u001b[38;5;28;43mself\u001b[39;49m\u001b[38;5;241;43m.\u001b[39;49m\u001b[43mprecise_float\u001b[49m\u001b[43m)\u001b[49m, dtype\u001b[38;5;241m=\u001b[39m\u001b[38;5;28;01mNone\u001b[39;00m\n\u001b[0;32m   1322\u001b[0m     )\n\u001b[0;32m   1323\u001b[0m \u001b[38;5;28;01melif\u001b[39;00m orient \u001b[38;5;241m==\u001b[39m \u001b[38;5;124m\"\u001b[39m\u001b[38;5;124msplit\u001b[39m\u001b[38;5;124m\"\u001b[39m:\n\u001b[0;32m   1324\u001b[0m     decoded \u001b[38;5;241m=\u001b[39m {\n\u001b[0;32m   1325\u001b[0m         \u001b[38;5;28mstr\u001b[39m(k): v\n\u001b[0;32m   1326\u001b[0m         \u001b[38;5;28;01mfor\u001b[39;00m k, v \u001b[38;5;129;01min\u001b[39;00m loads(json, precise_float\u001b[38;5;241m=\u001b[39m\u001b[38;5;28mself\u001b[39m\u001b[38;5;241m.\u001b[39mprecise_float)\u001b[38;5;241m.\u001b[39mitems()\n\u001b[0;32m   1327\u001b[0m     }\n",
      "\u001b[1;31mValueError\u001b[0m: Expected object or value"
     ]
    }
   ],
   "source": [
    "import json\n",
    "df_array = []\n",
    "print(dialogs_meta_data_files)\n",
    "for d in dialogs_meta_data_files:\n",
    "    local_df = pd.read_json(d)\n",
    "    local_df = local_df.rename({'id': 'dialog_id'}, axis=1)\n",
    "    df_array.append(local_df)\n",
    "    \n",
    "df_meta = pd.concat(df_array, ignore_index=True)"
   ]
  },
  {
   "cell_type": "code",
   "execution_count": 61,
   "id": "09b30d51",
   "metadata": {},
   "outputs": [
    {
     "data": {
      "text/plain": [
       "[]"
      ]
     },
     "execution_count": 61,
     "metadata": {},
     "output_type": "execute_result"
    }
   ],
   "source": [
    "df_array"
   ]
  },
  {
   "cell_type": "code",
   "execution_count": 14,
   "id": "6b458ce5",
   "metadata": {},
   "outputs": [],
   "source": [
    "df_meta.to_csv(f\"{MERGED_DATA_PATH}/dialogs_users_all.csv\", index=False)"
   ]
  },
  {
   "cell_type": "code",
   "execution_count": 15,
   "id": "313b23f0",
   "metadata": {},
   "outputs": [
    {
     "data": {
      "text/plain": [
       "(13008, 4)"
      ]
     },
     "execution_count": 15,
     "metadata": {},
     "output_type": "execute_result"
    }
   ],
   "source": [
    "df_meta.shape"
   ]
  },
  {
   "cell_type": "code",
   "execution_count": 16,
   "id": "ef6f51b9",
   "metadata": {},
   "outputs": [
    {
     "data": {
      "text/html": [
       "<div>\n",
       "<style scoped>\n",
       "    .dataframe tbody tr th:only-of-type {\n",
       "        vertical-align: middle;\n",
       "    }\n",
       "\n",
       "    .dataframe tbody tr th {\n",
       "        vertical-align: top;\n",
       "    }\n",
       "\n",
       "    .dataframe thead th {\n",
       "        text-align: right;\n",
       "    }\n",
       "</style>\n",
       "<table border=\"1\" class=\"dataframe\">\n",
       "  <thead>\n",
       "    <tr style=\"text-align: right;\">\n",
       "      <th></th>\n",
       "      <th>dialog_id</th>\n",
       "      <th>name</th>\n",
       "      <th>type</th>\n",
       "      <th>users</th>\n",
       "    </tr>\n",
       "  </thead>\n",
       "  <tbody>\n",
       "    <tr>\n",
       "      <th>0</th>\n",
       "      <td>-1001060691872</td>\n",
       "      <td>Analize</td>\n",
       "      <td>Channel</td>\n",
       "      <td>{'user_id': 332612372, 'first_name': 'Oleksand...</td>\n",
       "    </tr>\n",
       "    <tr>\n",
       "      <th>1</th>\n",
       "      <td>-1001104012669</td>\n",
       "      <td>Фіібал</td>\n",
       "      <td>Group</td>\n",
       "      <td>{'user_id': 109624025, 'first_name': 'Trokhym'...</td>\n",
       "    </tr>\n",
       "    <tr>\n",
       "      <th>2</th>\n",
       "      <td>-1001104012669</td>\n",
       "      <td>Фіібал</td>\n",
       "      <td>Group</td>\n",
       "      <td>{'user_id': 100182975, 'first_name': 'Нікандр'...</td>\n",
       "    </tr>\n",
       "    <tr>\n",
       "      <th>3</th>\n",
       "      <td>-1001104012669</td>\n",
       "      <td>Фіібал</td>\n",
       "      <td>Group</td>\n",
       "      <td>{'user_id': 262442341, 'first_name': 'Max', 'l...</td>\n",
       "    </tr>\n",
       "    <tr>\n",
       "      <th>4</th>\n",
       "      <td>-1001104012669</td>\n",
       "      <td>Фіібал</td>\n",
       "      <td>Group</td>\n",
       "      <td>{'user_id': 416992439, 'first_name': 'Vladic',...</td>\n",
       "    </tr>\n",
       "    <tr>\n",
       "      <th>5</th>\n",
       "      <td>-1001104012669</td>\n",
       "      <td>Фіібал</td>\n",
       "      <td>Group</td>\n",
       "      <td>{'user_id': 635402, 'first_name': '🍉 Oleksandr...</td>\n",
       "    </tr>\n",
       "    <tr>\n",
       "      <th>6</th>\n",
       "      <td>-1001104012669</td>\n",
       "      <td>Фіібал</td>\n",
       "      <td>Group</td>\n",
       "      <td>{'user_id': 373052947, 'first_name': 'Eugene',...</td>\n",
       "    </tr>\n",
       "    <tr>\n",
       "      <th>7</th>\n",
       "      <td>-1001104012669</td>\n",
       "      <td>Фіібал</td>\n",
       "      <td>Group</td>\n",
       "      <td>{'user_id': 226601818, 'first_name': 'Anastasi...</td>\n",
       "    </tr>\n",
       "    <tr>\n",
       "      <th>8</th>\n",
       "      <td>-1001104012669</td>\n",
       "      <td>Фіібал</td>\n",
       "      <td>Group</td>\n",
       "      <td>{'user_id': 286578569, 'first_name': 'S ΞRHιΨ'...</td>\n",
       "    </tr>\n",
       "    <tr>\n",
       "      <th>9</th>\n",
       "      <td>-1001104012669</td>\n",
       "      <td>Фіібал</td>\n",
       "      <td>Group</td>\n",
       "      <td>{'user_id': 249617294, 'first_name': 'Anna', '...</td>\n",
       "    </tr>\n",
       "  </tbody>\n",
       "</table>\n",
       "</div>"
      ],
      "text/plain": [
       "       dialog_id     name     type  \\\n",
       "0 -1001060691872  Analize  Channel   \n",
       "1 -1001104012669   Фіібал    Group   \n",
       "2 -1001104012669   Фіібал    Group   \n",
       "3 -1001104012669   Фіібал    Group   \n",
       "4 -1001104012669   Фіібал    Group   \n",
       "5 -1001104012669   Фіібал    Group   \n",
       "6 -1001104012669   Фіібал    Group   \n",
       "7 -1001104012669   Фіібал    Group   \n",
       "8 -1001104012669   Фіібал    Group   \n",
       "9 -1001104012669   Фіібал    Group   \n",
       "\n",
       "                                               users  \n",
       "0  {'user_id': 332612372, 'first_name': 'Oleksand...  \n",
       "1  {'user_id': 109624025, 'first_name': 'Trokhym'...  \n",
       "2  {'user_id': 100182975, 'first_name': 'Нікандр'...  \n",
       "3  {'user_id': 262442341, 'first_name': 'Max', 'l...  \n",
       "4  {'user_id': 416992439, 'first_name': 'Vladic',...  \n",
       "5  {'user_id': 635402, 'first_name': '🍉 Oleksandr...  \n",
       "6  {'user_id': 373052947, 'first_name': 'Eugene',...  \n",
       "7  {'user_id': 226601818, 'first_name': 'Anastasi...  \n",
       "8  {'user_id': 286578569, 'first_name': 'S ΞRHιΨ'...  \n",
       "9  {'user_id': 249617294, 'first_name': 'Anna', '...  "
      ]
     },
     "execution_count": 16,
     "metadata": {},
     "output_type": "execute_result"
    }
   ],
   "source": [
    "df_meta.head(10)"
   ]
  },
  {
   "cell_type": "code",
   "execution_count": 17,
   "id": "186f2f67",
   "metadata": {},
   "outputs": [
    {
     "data": {
      "text/plain": [
       "type\n",
       "Channel             113\n",
       "Group             12736\n",
       "Private dialog      159\n",
       "Name: type, dtype: int64"
      ]
     },
     "execution_count": 17,
     "metadata": {},
     "output_type": "execute_result"
    }
   ],
   "source": [
    "df_meta.groupby([\"type\"])[\"type\"].count()"
   ]
  },
  {
   "cell_type": "code",
   "execution_count": null,
   "id": "8ba9a5ac",
   "metadata": {},
   "outputs": [],
   "source": []
  }
 ],
 "metadata": {
  "kernelspec": {
   "display_name": "Python 3 (ipykernel)",
   "language": "python",
   "name": "python3"
  },
  "language_info": {
   "codemirror_mode": {
    "name": "ipython",
    "version": 3
   },
   "file_extension": ".py",
   "mimetype": "text/x-python",
   "name": "python",
   "nbconvert_exporter": "python",
   "pygments_lexer": "ipython3",
   "version": "3.10.7"
  }
 },
 "nbformat": 4,
 "nbformat_minor": 5
}
